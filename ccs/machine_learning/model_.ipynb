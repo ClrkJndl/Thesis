{
 "cells": [
  {
   "cell_type": "markdown",
   "metadata": {},
   "source": [
    "# K-Means Clustering\n",
    "\n",
    "## Import all dependencies"
   ]
  },
  {
   "cell_type": "code",
   "execution_count": 15,
   "metadata": {},
   "outputs": [],
   "source": [
    "from sklearn.metrics import silhouette_samples, silhouette_score\n",
    "from sklearn.decomposition import PCA\n",
    "from sklearn.cluster import KMeans\n",
    "import matplotlib.pyplot as plt\n",
    "from matplotlib import cm\n",
    "import pickle, os, json\n",
    "import pandas as pd\n",
    "import numpy as np\n",
    "import collections\n",
    "import pickle\n",
    "import os"
   ]
  },
  {
   "cell_type": "markdown",
   "metadata": {},
   "source": [
    "## Fetch datasets"
   ]
  },
  {
   "cell_type": "code",
   "execution_count": 19,
   "metadata": {},
   "outputs": [
    {
     "data": {
      "text/html": [
       "<div>\n",
       "<style scoped>\n",
       "    .dataframe tbody tr th:only-of-type {\n",
       "        vertical-align: middle;\n",
       "    }\n",
       "\n",
       "    .dataframe tbody tr th {\n",
       "        vertical-align: top;\n",
       "    }\n",
       "\n",
       "    .dataframe thead th {\n",
       "        text-align: right;\n",
       "    }\n",
       "</style>\n",
       "<table border=\"1\" class=\"dataframe\">\n",
       "  <thead>\n",
       "    <tr style=\"text-align: right;\">\n",
       "      <th></th>\n",
       "      <th>Program Enrolled</th>\n",
       "      <th>Age</th>\n",
       "      <th>Year Level</th>\n",
       "      <th>Gender</th>\n",
       "      <th>Level of Education Graduated before College</th>\n",
       "      <th>Student Interest/Motivation in joining the Course</th>\n",
       "      <th>Resolving Programming Issues</th>\n",
       "      <th>Factors that may affect the learning experiences</th>\n",
       "      <th>Teaching Methods</th>\n",
       "      <th>[C++  Programming Language]</th>\n",
       "      <th>[Java Programming Language]</th>\n",
       "      <th>[Information Management]</th>\n",
       "      <th>[Object Oriented Programming]</th>\n",
       "      <th>[Python Programming Language]</th>\n",
       "      <th>[Learning MySQL (Database)]</th>\n",
       "      <th>[Web Development (HTML &amp; CSS)]</th>\n",
       "    </tr>\n",
       "  </thead>\n",
       "  <tbody>\n",
       "    <tr>\n",
       "      <th>0</th>\n",
       "      <td>1</td>\n",
       "      <td>0</td>\n",
       "      <td>3</td>\n",
       "      <td>1</td>\n",
       "      <td>1</td>\n",
       "      <td>5</td>\n",
       "      <td>3</td>\n",
       "      <td>1</td>\n",
       "      <td>1</td>\n",
       "      <td>4</td>\n",
       "      <td>4</td>\n",
       "      <td>4</td>\n",
       "      <td>4</td>\n",
       "      <td>4</td>\n",
       "      <td>4</td>\n",
       "      <td>4</td>\n",
       "    </tr>\n",
       "    <tr>\n",
       "      <th>1</th>\n",
       "      <td>1</td>\n",
       "      <td>21</td>\n",
       "      <td>4</td>\n",
       "      <td>1</td>\n",
       "      <td>1</td>\n",
       "      <td>1</td>\n",
       "      <td>1</td>\n",
       "      <td>1</td>\n",
       "      <td>1</td>\n",
       "      <td>1</td>\n",
       "      <td>1</td>\n",
       "      <td>2</td>\n",
       "      <td>2</td>\n",
       "      <td>2</td>\n",
       "      <td>2</td>\n",
       "      <td>2</td>\n",
       "    </tr>\n",
       "    <tr>\n",
       "      <th>2</th>\n",
       "      <td>2</td>\n",
       "      <td>21</td>\n",
       "      <td>4</td>\n",
       "      <td>1</td>\n",
       "      <td>1</td>\n",
       "      <td>3</td>\n",
       "      <td>4</td>\n",
       "      <td>3</td>\n",
       "      <td>2</td>\n",
       "      <td>2</td>\n",
       "      <td>2</td>\n",
       "      <td>2</td>\n",
       "      <td>2</td>\n",
       "      <td>2</td>\n",
       "      <td>2</td>\n",
       "      <td>2</td>\n",
       "    </tr>\n",
       "    <tr>\n",
       "      <th>3</th>\n",
       "      <td>2</td>\n",
       "      <td>21</td>\n",
       "      <td>4</td>\n",
       "      <td>2</td>\n",
       "      <td>1</td>\n",
       "      <td>2</td>\n",
       "      <td>5</td>\n",
       "      <td>2</td>\n",
       "      <td>3</td>\n",
       "      <td>2</td>\n",
       "      <td>2</td>\n",
       "      <td>2</td>\n",
       "      <td>2</td>\n",
       "      <td>2</td>\n",
       "      <td>2</td>\n",
       "      <td>2</td>\n",
       "    </tr>\n",
       "    <tr>\n",
       "      <th>4</th>\n",
       "      <td>2</td>\n",
       "      <td>21</td>\n",
       "      <td>4</td>\n",
       "      <td>4</td>\n",
       "      <td>1</td>\n",
       "      <td>1</td>\n",
       "      <td>1</td>\n",
       "      <td>4</td>\n",
       "      <td>1</td>\n",
       "      <td>3</td>\n",
       "      <td>2</td>\n",
       "      <td>2</td>\n",
       "      <td>2</td>\n",
       "      <td>2</td>\n",
       "      <td>2</td>\n",
       "      <td>2</td>\n",
       "    </tr>\n",
       "  </tbody>\n",
       "</table>\n",
       "</div>"
      ],
      "text/plain": [
       "   Program Enrolled  Age  Year Level  Gender  \\\n",
       "0                 1    0           3       1   \n",
       "1                 1   21           4       1   \n",
       "2                 2   21           4       1   \n",
       "3                 2   21           4       2   \n",
       "4                 2   21           4       4   \n",
       "\n",
       "   Level of Education Graduated before College  \\\n",
       "0                                            1   \n",
       "1                                            1   \n",
       "2                                            1   \n",
       "3                                            1   \n",
       "4                                            1   \n",
       "\n",
       "   Student Interest/Motivation in joining the Course  \\\n",
       "0                                                  5   \n",
       "1                                                  1   \n",
       "2                                                  3   \n",
       "3                                                  2   \n",
       "4                                                  1   \n",
       "\n",
       "   Resolving Programming Issues  \\\n",
       "0                             3   \n",
       "1                             1   \n",
       "2                             4   \n",
       "3                             5   \n",
       "4                             1   \n",
       "\n",
       "   Factors that may affect the learning experiences  Teaching Methods  \\\n",
       "0                                                 1                 1   \n",
       "1                                                 1                 1   \n",
       "2                                                 3                 2   \n",
       "3                                                 2                 3   \n",
       "4                                                 4                 1   \n",
       "\n",
       "    [C++  Programming Language]   [Java Programming Language]  \\\n",
       "0                             4                             4   \n",
       "1                             1                             1   \n",
       "2                             2                             2   \n",
       "3                             2                             2   \n",
       "4                             3                             2   \n",
       "\n",
       "    [Information Management]   [Object Oriented Programming]  \\\n",
       "0                          4                               4   \n",
       "1                          2                               2   \n",
       "2                          2                               2   \n",
       "3                          2                               2   \n",
       "4                          2                               2   \n",
       "\n",
       "    [Python Programming Language]   [Learning MySQL (Database)]  \\\n",
       "0                               4                             4   \n",
       "1                               2                             2   \n",
       "2                               2                             2   \n",
       "3                               2                             2   \n",
       "4                               2                             2   \n",
       "\n",
       "    [Web Development (HTML & CSS)]  \n",
       "0                                4  \n",
       "1                                2  \n",
       "2                                2  \n",
       "3                                2  \n",
       "4                                2  "
      ]
     },
     "execution_count": 19,
     "metadata": {},
     "output_type": "execute_result"
    }
   ],
   "source": [
    "dataset = pd.read_csv(os.path.join(\"../web_application/data/output/datasets.csv\"))\n",
    "dataset.head()"
   ]
  },
  {
   "cell_type": "markdown",
   "metadata": {},
   "source": [
    "#### Get Shape of Dataset"
   ]
  },
  {
   "cell_type": "code",
   "execution_count": 20,
   "metadata": {},
   "outputs": [
    {
     "data": {
      "text/plain": [
       "(249, 16)"
      ]
     },
     "execution_count": 20,
     "metadata": {},
     "output_type": "execute_result"
    }
   ],
   "source": [
    "dataset.shape"
   ]
  },
  {
   "cell_type": "markdown",
   "metadata": {},
   "source": [
    "We have **306** observations (students) with **16** features (11 survey questions and 5 attributes)."
   ]
  },
  {
   "cell_type": "code",
   "execution_count": 21,
   "metadata": {},
   "outputs": [
    {
     "name": "stdout",
     "output_type": "stream",
     "text": [
      "Grand Mean: \t\t 2.2117561153705734\n",
      "Standard Deviation: \t 0.23218333526085586\n"
     ]
    }
   ],
   "source": [
    "X_questions = dataset.iloc[:,5:16]\n",
    "question_means = X_questions.mean(axis = 0)\n",
    "grand_mean = question_means.mean()\n",
    "std_by_questions = question_means.std()\n",
    "print('Grand Mean: \\t\\t', grand_mean)\n",
    "print('Standard Deviation: \\t', std_by_questions)"
   ]
  },
  {
   "cell_type": "markdown",
   "metadata": {},
   "source": [
    "### Data Preparation"
   ]
  },
  {
   "cell_type": "markdown",
   "metadata": {},
   "source": [
    "_People tend to prefer explained variance ≥ 90%_"
   ]
  },
  {
   "cell_type": "code",
   "execution_count": 22,
   "metadata": {},
   "outputs": [
    {
     "data": {
      "text/plain": [
       "0.722167326633513"
      ]
     },
     "execution_count": 22,
     "metadata": {},
     "output_type": "execute_result"
    }
   ],
   "source": [
    "pca = PCA(n_components = 2, random_state=1)\n",
    "X_pca = pca.fit_transform(dataset)\n",
    "pca.explained_variance_ratio_.cumsum()[1]"
   ]
  },
  {
   "cell_type": "markdown",
   "metadata": {},
   "source": [
    "## Running K-Means with a range of k\n",
    "\n",
    "Our output will be the `yield` property and we will get the 30% of the data to be the test data. "
   ]
  },
  {
   "cell_type": "code",
   "execution_count": 13,
   "metadata": {},
   "outputs": [],
   "source": [
    "distortions = []\n",
    "K = range(1,10)\n",
    "for i in K:\n",
    "    model = KMeans(\n",
    "            n_clusters=i,\n",
    "            random_state=1)\n",
    "    model.fit(X_pca)\n",
    "    distortions.append(model.inertia_)"
   ]
  },
  {
   "cell_type": "code",
   "execution_count": 7,
   "metadata": {},
   "outputs": [
    {
     "data": {
      "image/png": "[encoded data removed]",
      "text/plain": [
       "<Figure size 640x480 with 1 Axes>"
      ]
     },
     "metadata": {},
     "output_type": "display_data"
    }
   ],
   "source": [
    "plt.plot(K, distortions, marker='o')\n",
    "plt.xlabel('Number of Clusters (k)')\n",
    "plt.ylabel('Distortion')\n",
    "plt.show()"
   ]
  },
  {
   "cell_type": "markdown",
   "metadata": {},
   "source": [
    "## Plotting the distortions of K-Means"
   ]
  },
  {
   "cell_type": "markdown",
   "metadata": {},
   "source": [
    "#### We can observe that the “elbow” is the number 4 which is optimal for this case. Now we can run a K-Means using as n_clusters the number 4."
   ]
  },
  {
   "cell_type": "code",
   "execution_count": 23,
   "metadata": {},
   "outputs": [
    {
     "name": "stdout",
     "output_type": "stream",
     "text": [
      "[[ 2.12024904e+01  1.15491767e+00]\n",
      " [-1.91962523e-01 -2.83732045e+00]\n",
      " [-3.72001309e-02  1.36860875e+00]\n",
      " [-6.87034379e-02  1.27341271e+00]\n",
      " [-4.56704631e-02 -1.35358238e+00]\n",
      " [-7.01009339e+00 -1.29529817e+00]\n",
      " [-7.86076326e-03  1.23576757e+00]\n",
      " [ 8.72460242e-01  1.99583867e-01]\n",
      " [-8.09349951e+00 -1.34868538e-01]\n",
      " [-1.10199620e+00 -2.20589172e+00]\n",
      " [-1.13268312e+00  3.89283315e-01]\n",
      " [-1.15131835e+00 -2.13200951e+00]\n",
      " [-6.46658856e-02 -2.24634671e+00]\n",
      " [ 2.09580982e+01 -5.29438141e-01]\n",
      " [-1.41453190e-01 -1.43945844e+00]\n",
      " [ 9.30005374e-01 -1.08430034e+00]\n",
      " [ 1.05376450e+00  3.03750831e+00]\n",
      " [-3.02710776e-03  1.22712742e+00]\n",
      " [-2.08470973e+00 -1.92280351e+00]\n",
      " [-2.05189710e+00  6.91853561e-01]\n",
      " [-1.98428343e+00  1.69822114e+00]\n",
      " [-1.01283280e+00  1.73785241e+00]\n",
      " [-5.35004578e-02 -5.02200891e-01]\n",
      " [ 8.32675691e-02  3.28025200e+00]\n",
      " [-1.03009634e+00 -1.04234592e+00]\n",
      " [-1.12316169e+00 -2.65243555e+00]\n",
      " [-2.18755232e+00 -7.05497993e-01]\n",
      " [-8.28759155e-02 -8.89770257e-01]\n",
      " [-1.21147412e-01 -8.19335173e-01]\n",
      " [-2.12897718e+00 -2.61580507e+00]\n",
      " [-9.34961785e-01  1.94262411e+00]\n",
      " [-1.00640765e+00  2.33459379e+00]\n",
      " [-1.91573916e-02 -2.17472059e+00]\n",
      " [-1.13555070e+00 -3.67097149e-01]\n",
      " [-2.02093507e+00  2.93731801e+00]\n",
      " [-1.10268863e+00  1.43003065e+00]\n",
      " [-2.13274819e-02  4.78987152e-01]\n",
      " [ 1.19462390e-01  2.64900344e+00]\n",
      " [-9.54389994e-01  2.35022408e+00]\n",
      " [ 1.68341828e-02  3.09322260e+00]\n",
      " [-1.20179811e-01 -1.45975150e+00]\n",
      " [ 8.35758266e-01  2.01209935e-01]\n",
      " [-3.06479299e+00  4.95337834e-01]\n",
      " [-1.00840765e+00  6.90579718e-01]\n",
      " [-1.22459635e-01 -1.58757843e+00]\n",
      " [ 9.35407679e-01  3.08684647e-02]\n",
      " [-1.23099586e-01 -2.89274596e-01]\n",
      " [-1.17902891e-01 -7.12840648e-01]\n",
      " [-2.09789792e-02  1.18173568e+00]\n",
      " [-1.37369308e-01 -7.34917548e-01]\n",
      " [ 9.83402440e-01 -7.20953392e-01]\n",
      " [-3.93661368e-02  1.17222655e+00]\n",
      " [ 1.06405616e+00  2.62527609e+00]\n",
      " [ 9.10095346e-01  1.12354756e+00]\n",
      " [ 8.79568711e-01 -3.48562067e-01]\n",
      " [-2.78327140e-02  9.86407976e-01]\n",
      " [-4.75190281e-03 -1.96264580e-01]\n",
      " [-1.07717199e+00  1.35257115e+00]\n",
      " [ 1.01529376e+00  1.36659655e+00]\n",
      " [ 8.16332261e-01 -1.70076785e+00]\n",
      " [-9.65331339e-01  3.68128803e+00]\n",
      " [-1.02489794e+00  2.10395230e+00]\n",
      " [-7.28430857e-02  1.29130707e-01]\n",
      " [-4.13904866e+00 -2.58533934e+00]\n",
      " [-2.08562277e+00 -2.25242006e+00]\n",
      " [ 1.00622438e+00  1.15884633e+00]\n",
      " [ 4.29655640e-02  2.18660517e+00]\n",
      " [-1.07232815e+00 -6.55981450e-01]\n",
      " [-1.13617897e+00 -1.46105231e+00]\n",
      " [-2.02667754e+00  8.20100892e-01]\n",
      " [-8.69516717e-01  2.22330425e+00]\n",
      " [-3.37692249e-02  3.73976307e-01]\n",
      " [ 9.07122281e-01 -1.72759648e+00]\n",
      " [ 9.11399714e-01  2.40408989e-01]\n",
      " [-2.07095016e+00 -1.91476863e+00]\n",
      " [-1.13365650e-01 -1.49220465e+00]\n",
      " [-6.46632248e-02  1.19445086e+00]\n",
      " [ 9.23862199e-01 -1.91032146e+00]\n",
      " [-1.09083981e+00 -1.49822332e-03]\n",
      " [ 9.03339793e-01 -2.01828954e+00]\n",
      " [-1.05303497e+00  1.66509594e+00]\n",
      " [-1.39152461e-01 -5.71760221e-01]\n",
      " [-1.09227263e+00 -1.19744224e+00]\n",
      " [-5.05260686e-04  7.95204679e-01]\n",
      " [-1.05656140e+00 -2.14698879e+00]\n",
      " [-1.60582656e+01 -2.41860873e-01]\n",
      " [ 1.05251378e+00  2.05612501e+00]\n",
      " [-1.25409209e-02  9.46374055e-01]\n",
      " [-1.52203874e-02  1.78640949e+00]\n",
      " [-2.32280723e-02 -1.83290812e-01]\n",
      " [ 2.09719628e+01  4.53349348e-01]\n",
      " [-4.38683924e-02  1.30161520e-01]\n",
      " [ 8.39928109e-01 -1.85062985e+00]\n",
      " [-1.99724854e+00  1.05667013e+00]\n",
      " [-1.19451745e-01 -2.62898515e+00]\n",
      " [-1.58419364e-01 -2.49728489e+00]\n",
      " [-5.98815046e-02  3.60819939e-01]\n",
      " [-1.24370834e-02  3.00596998e+00]\n",
      " [ 4.46743824e-02 -5.73145302e-01]\n",
      " [ 1.91309183e+00 -6.64492656e-01]\n",
      " [ 1.11338171e+00  2.22878974e+00]\n",
      " [ 8.72214935e-01 -8.14084161e-01]\n",
      " [-4.12041730e+00 -5.00683903e-01]\n",
      " [ 1.05661711e+00  2.56871352e-01]\n",
      " [ 9.44564068e-01  8.99394488e-01]\n",
      " [-9.11903160e-02 -1.41187674e+00]\n",
      " [-9.31593526e-02 -1.82738447e+00]\n",
      " [-1.23348384e-01 -4.32629943e-02]\n",
      " [ 8.05322594e-02 -1.25738206e-01]\n",
      " [-1.09159635e+00 -2.28991678e+00]\n",
      " [ 9.27707834e-01  1.89978687e+00]\n",
      " [ 2.09164176e+01 -1.05338908e+00]\n",
      " [ 9.01607889e-01 -2.57123987e-01]\n",
      " [-1.17323356e-01 -9.08444444e-01]\n",
      " [ 9.94799631e-01 -2.34160115e+00]\n",
      " [ 4.29198193e-04  1.06908696e+00]\n",
      " [-2.90088993e-02  1.44688377e+00]\n",
      " [-1.06706673e-01 -1.05688842e+00]\n",
      " [-1.07516035e+00 -1.22781009e+00]\n",
      " [-8.02147205e+00  2.45361156e+00]\n",
      " [-1.24787065e-01 -2.70083256e+00]\n",
      " [ 9.27679646e-01 -1.04607847e+00]\n",
      " [-5.76066544e-02 -2.93878922e-01]\n",
      " [-9.44840349e-02 -2.06559401e+00]\n",
      " [-5.11002506e+00 -2.41021434e+00]\n",
      " [ 9.52560114e-01  1.49285857e+00]\n",
      " [-1.11296743e+00 -7.16662655e-01]\n",
      " [-1.16019464e+00 -2.28049735e+00]\n",
      " [ 2.09371334e+01 -1.84770660e+00]\n",
      " [-1.11465605e+00 -7.18544760e-01]\n",
      " [-7.24071723e-03  1.60577613e+00]\n",
      " [-4.47454573e-02 -1.27145346e+00]\n",
      " [-3.53262553e-02 -4.95065159e-01]\n",
      " [-1.08018341e+00  3.02903972e-01]\n",
      " [-1.69322487e-02 -8.20752379e-01]\n",
      " [ 8.97875740e-01 -7.17886537e-01]\n",
      " [ 4.53278979e-02  3.07834936e+00]\n",
      " [ 1.01328427e+00 -5.19763827e-01]\n",
      " [ 8.80858079e-01 -8.93484993e-01]\n",
      " [ 1.00939176e+00  2.89220098e-01]\n",
      " [ 1.01812302e+00  3.38889444e-01]\n",
      " [ 9.39567691e-01  1.97766590e-01]\n",
      " [ 9.86203861e-01 -3.62021093e-01]\n",
      " [ 9.55337015e-01  2.25203118e-02]\n",
      " [ 1.07423522e+00  2.13081531e+00]\n",
      " [-1.15747311e+00 -9.24170596e-01]\n",
      " [-1.11646280e+00  2.36109834e+00]\n",
      " [-2.56524374e-02 -1.15804382e+00]\n",
      " [-3.10727978e-02  7.93011472e-01]\n",
      " [ 1.59371684e-01  5.69171798e+00]\n",
      " [-9.40657327e-01  2.17376342e+00]\n",
      " [-2.12124070e+00 -5.28072017e-01]\n",
      " [-1.04857729e-01 -2.70918071e+00]\n",
      " [ 1.00870337e+00  2.58876631e+00]\n",
      " [ 9.82816821e-01  7.57346789e-01]\n",
      " [ 1.03864667e+00  1.08240899e+00]\n",
      " [ 8.31285199e-01 -1.82669138e+00]\n",
      " [-2.09527607e+00 -1.94442902e+00]\n",
      " [ 1.02756427e+00  1.61702040e+00]\n",
      " [-1.91683567e-02  2.17703290e-01]\n",
      " [-7.86385844e-03 -4.05828616e-02]\n",
      " [-1.37737603e-01 -2.58091164e+00]\n",
      " [-9.44661652e-01  5.46792917e-01]\n",
      " [ 9.03890588e-01 -2.11399101e+00]\n",
      " [-1.98396309e+00  2.48178973e+00]\n",
      " [-2.16989236e-01 -1.22287606e+00]\n",
      " [ 9.04986223e-01 -1.32732579e+00]\n",
      " [ 8.51794190e-01 -8.83580066e-01]\n",
      " [-1.00097429e+00  2.44180999e+00]\n",
      " [-1.07629116e+00 -9.92132068e-01]\n",
      " [-8.03510532e+00  2.22858715e+00]\n",
      " [-2.14089797e+00 -7.92931201e-01]\n",
      " [-4.00797446e-02 -2.22784482e-01]\n",
      " [ 9.66945134e-01  1.19834406e+00]\n",
      " [-7.27351488e-02 -1.26406243e+00]\n",
      " [-1.06096015e+00  1.67840206e+00]\n",
      " [ 8.48499054e-01 -1.45757027e+00]\n",
      " [ 9.55775431e-01  1.10515565e+00]\n",
      " [ 9.36860004e-01  3.63804086e-01]\n",
      " [ 9.56498890e-01 -8.55588977e-01]\n",
      " [-1.07677388e+00 -2.60045430e+00]\n",
      " [-1.93642283e-02 -4.58490860e-02]\n",
      " [-3.46122435e-02  9.56711273e-01]\n",
      " [ 1.02226656e+00 -2.38104419e-01]\n",
      " [ 8.92874772e-01 -5.92823611e-01]\n",
      " [-4.45876356e-02  1.29094277e+00]\n",
      " [-4.02157995e-02  1.51335367e+00]\n",
      " [-5.07473867e-02 -2.53915259e+00]\n",
      " [-5.20444234e+00 -1.87983466e+00]\n",
      " [-1.77942488e-01 -1.06800188e+00]\n",
      " [ 9.47842904e-01  7.99907204e-01]\n",
      " [ 1.07694905e+00  2.45815651e+00]\n",
      " [ 1.04660322e+00  1.91593921e+00]\n",
      " [-1.01713524e+00  1.09458986e+00]\n",
      " [ 9.51564312e-01  3.23429272e-01]\n",
      " [-1.08415697e+00 -2.63368358e+00]\n",
      " [-1.47424408e-01  6.38862365e-01]\n",
      " [-1.05173699e+00 -4.27907647e-01]\n",
      " [-2.05139520e+00 -3.70221550e-01]\n",
      " [ 1.00373679e+00  1.33664782e+00]\n",
      " [-1.75365677e-01 -2.95545249e+00]\n",
      " [-2.00289840e+00  6.24161655e-01]\n",
      " [ 1.07409931e+00  3.25409952e+00]\n",
      " [-2.10611993e+00  2.17577399e-01]\n",
      " [-1.02748455e+00  1.42116324e+00]\n",
      " [-1.17341127e+00 -8.48703496e-01]\n",
      " [-1.03233554e+00 -1.28024068e+00]\n",
      " [-2.30593338e-02  1.58933900e-01]\n",
      " [ 9.96303371e-01  6.59477365e-02]\n",
      " [ 1.02436501e+00  1.14490230e+00]\n",
      " [-2.76135550e-02  5.13090642e-01]\n",
      " [-4.92626430e-02  2.19947567e+00]\n",
      " [ 9.55357295e-01  1.99254306e-02]\n",
      " [ 1.57306930e-02  6.55175560e-01]\n",
      " [-1.02333249e+00  7.24607826e-01]\n",
      " [ 1.18207539e-02  1.03451163e+00]\n",
      " [-2.38773744e-02  9.13067097e-01]\n",
      " [ 1.00696257e+00  1.37152973e+00]\n",
      " [-1.97875265e+00  1.23834460e+00]\n",
      " [ 9.86673703e-01  9.90260165e-01]\n",
      " [-1.05569682e-01 -2.64997234e+00]\n",
      " [-9.91632961e-01 -1.19416074e+00]\n",
      " [-5.08613676e-02  8.73675401e-01]\n",
      " [-1.07796309e+00 -2.06489237e+00]\n",
      " [-2.06228786e-01 -2.27077564e+00]\n",
      " [ 8.94878703e-01 -8.54319097e-01]\n",
      " [-9.57515187e-01  1.63123713e+00]\n",
      " [ 9.49703520e-01  9.66808419e-01]\n",
      " [-1.25667888e+00 -1.29018991e+00]\n",
      " [ 9.72275369e-01  1.25179318e+00]\n",
      " [-4.52890071e-02  4.02841355e-02]\n",
      " [-1.09126161e+00 -1.54040793e+00]\n",
      " [-1.49082777e-02  1.36461823e+00]\n",
      " [-3.10194638e+00 -2.69071193e+00]\n",
      " [ 9.28036338e-01 -1.49980807e+00]\n",
      " [-1.05536353e+00  2.47710054e-01]\n",
      " [-8.66172111e-02 -1.24307524e+00]\n",
      " [ 8.00782385e-01 -1.83644390e+00]\n",
      " [-9.77805535e-01  1.43709800e-01]\n",
      " [ 1.93156287e+00 -7.67741887e-02]\n",
      " [-5.77175683e-02 -8.44407575e-01]\n",
      " [ 9.27968179e-01  5.93040486e-01]\n",
      " [ 8.98615047e-01 -2.77147985e+00]\n",
      " [-1.96065257e+00  1.19555282e+00]\n",
      " [ 8.85383212e-03  1.41778124e+00]\n",
      " [ 1.99942846e-02  6.33992357e-01]\n",
      " [-5.96452368e+00  1.42759308e+00]\n",
      " [-2.28454759e-02  5.05489364e-01]\n",
      " [ 4.84132708e-02 -8.66436121e-01]]\n",
      "[1 2 0 0 2 3 0 0 3 2 0 2 2 1 2 2 0 0 2 0 0 0 2 0 2 2 2 2 2 2 0 0 2 2 0 0 0\n",
      " 0 0 0 2 0 0 0 2 0 2 2 0 2 2 0 0 0 2 0 2 0 0 2 0 0 0 3 2 0 0 2 2 0 0 0 2 0\n",
      " 2 2 0 2 2 2 0 2 2 0 2 3 0 0 0 2 1 0 2 0 2 2 0 0 2 2 0 2 3 0 0 2 2 2 2 2 0\n",
      " 1 2 2 2 0 0 2 2 3 2 2 2 2 3 0 2 2 1 2 0 2 2 0 2 2 0 2 2 0 0 0 2 0 0 2 0 2\n",
      " 0 0 0 2 2 0 0 0 2 2 0 0 2 2 0 2 0 2 2 2 0 2 3 2 2 0 2 0 2 0 0 2 2 2 0 2 2\n",
      " 0 0 2 3 2 0 0 0 0 0 2 0 2 2 0 2 0 0 0 0 2 2 0 0 0 0 0 0 0 0 0 0 0 0 0 2 2\n",
      " 0 2 2 2 0 0 2 0 0 2 0 2 2 0 2 2 0 0 2 0 2 0 0 0 3 0 2]\n"
     ]
    }
   ],
   "source": [
    "model = pickle.load(open(os.path.join('..', 'web_application', 'data', 'model', 'model.pkl'), 'rb'))\n",
    "y = model.predict(X_pca)\n",
    "print(X_pca)\n",
    "print(y)"
   ]
  },
  {
   "cell_type": "markdown",
   "metadata": {},
   "source": [
    "## K-Means vs Actual for n_clusters=4"
   ]
  },
  {
   "cell_type": "code",
   "execution_count": 24,
   "metadata": {},
   "outputs": [
    {
     "data": {
      "image/png": "[encoded data removed]",
      "text/plain": [
       "<Figure size 640x480 with 1 Axes>"
      ]
     },
     "metadata": {},
     "output_type": "display_data"
    }
   ],
   "source": [
    "plt.scatter(X_pca[y == 0, 0], X_pca[y == 0, 1], s = 50, c = 'yellow', label = 'Cluster 1')\n",
    "plt.scatter(X_pca[y == 1, 0], X_pca[y == 1, 1], s = 50, c = 'green', label = 'Cluster 2')\n",
    "plt.scatter(X_pca[y == 2, 0], X_pca[y == 2, 1], s = 50, c = 'red', label = 'Cluster 3')\n",
    "plt.scatter(X_pca[y == 3, 0], X_pca[y == 3, 1], s = 50, c = 'orange', label = 'Cluster 4')\n",
    "plt.scatter(model.cluster_centers_[:, 0], model.cluster_centers_[:, 1], s = 100, c = 'blue', label = 'Centroids')\n",
    "plt.title('Clusters of Students')\n",
    "plt.xlabel('Principle Component 1')\n",
    "plt.ylabel('Principle Component 2')\n",
    "plt.legend()\n",
    "plt.grid()\n",
    "plt.show()\n"
   ]
  },
  {
   "cell_type": "markdown",
   "metadata": {},
   "source": [
    "### Result"
   ]
  },
  {
   "cell_type": "code",
   "execution_count": 10,
   "metadata": {},
   "outputs": [
    {
     "name": "stdout",
     "output_type": "stream",
     "text": [
      "K Means Result : \n",
      "Counter({2: 155, 3: 135, 0: 12, 1: 4})\n"
     ]
    }
   ],
   "source": [
    "print('K Means Result : ')\n",
    "print(collections.Counter(y))"
   ]
  },
  {
   "cell_type": "code",
   "execution_count": 11,
   "metadata": {},
   "outputs": [
    {
     "name": "stdout",
     "output_type": "stream",
     "text": [
      "Silhouette Average:  0.4253850812314909\n"
     ]
    },
    {
     "data": {
      "image/png": "[encoded data removed]",
      "text/plain": [
       "<Figure size 640x480 with 1 Axes>"
      ]
     },
     "metadata": {},
     "output_type": "display_data"
    }
   ],
   "source": [
    "cluster_labels = np.unique(y)\n",
    "n_clusters = cluster_labels.shape[0]\n",
    "silhouette_vals = silhouette_samples(X_pca, y, metric='euclidean')\n",
    "\n",
    "y_ax_lower, y_ax_upper = 0, 0\n",
    "yticks = []\n",
    "for i, c in enumerate(cluster_labels):\n",
    "    c_silhouette_vals = silhouette_vals[y == c]\n",
    "    c_silhouette_vals.sort()\n",
    "    y_ax_upper += len(c_silhouette_vals)\n",
    "    color = cm.jet(float(i) / n_clusters)\n",
    "    plt.barh(range(y_ax_lower, y_ax_upper),\n",
    "            c_silhouette_vals,\n",
    "            height=1.0,\n",
    "            edgecolor='none',\n",
    "            color=color)\n",
    "    yticks.append((y_ax_lower + y_ax_upper) / 2.)\n",
    "    y_ax_lower += len(c_silhouette_vals)\n",
    "silhouette_avg = np.mean(silhouette_vals)\n",
    "print('Silhouette Average: ', silhouette_avg)\n",
    "\n",
    "plt.axvline(silhouette_avg, color=\"red\", linestyle=\"--\")\n",
    "plt.yticks(yticks, cluster_labels + 1)\n",
    "plt.ylabel('Cluster')\n",
    "plt.xlabel('Silhouette coefficient')\n",
    "plt.show()"
   ]
  },
  {
   "cell_type": "code",
   "execution_count": 12,
   "metadata": {},
   "outputs": [
    {
     "data": {
      "image/png": "[encoded data removed]",
      "text/plain": [
       "<Figure size 640x480 with 1 Axes>"
      ]
     },
     "metadata": {},
     "output_type": "display_data"
    }
   ],
   "source": [
    "range_n_clusters = [2, 3, 4, 5, 6, 7, 8]\n",
    "silhouette_avg = []\n",
    "for num_clusters in range_n_clusters:\n",
    "    # initialise kmeans\n",
    "    kmeans = KMeans(n_clusters=num_clusters)\n",
    "    kmeans.fit(X_pca)\n",
    "    cluster_labels = kmeans.labels_\n",
    "\n",
    "    # silhouette score\n",
    "    silhouette_avg.append(silhouette_score(X_pca, cluster_labels))\n",
    "plt.plot(range_n_clusters,silhouette_avg,'bx-')\n",
    "plt.xlabel('Values of K') \n",
    "plt.ylabel('Silhouette score') \n",
    "plt.title('Silhouette analysis For Optimal k')\n",
    "plt.show()"
   ]
  },
  {
   "cell_type": "markdown",
   "metadata": {},
   "source": [
    "## Export Model"
   ]
  },
  {
   "cell_type": "code",
   "execution_count": 13,
   "metadata": {},
   "outputs": [],
   "source": [
    "pickle.dump(model, open('model.pkl', 'wb'))"
   ]
  }
 ],
 "metadata": {
  "kernelspec": {
   "display_name": "Python 3 (ipykernel)",
   "language": "python",
   "name": "python3"
  },
  "language_info": {
   "codemirror_mode": {
    "name": "ipython",
    "version": 3
   },
   "file_extension": ".py",
   "mimetype": "text/x-python",
   "name": "python",
   "nbconvert_exporter": "python",
   "pygments_lexer": "ipython3",
   "version": "3.10.6"
  },
  "vscode": {
   "interpreter": {
    "hash": "949777d72b0d2535278d3dc13498b2535136f6dfe0678499012e853ee9abcab1"
   }
  }
 },
 "nbformat": 4,
 "nbformat_minor": 2
}
