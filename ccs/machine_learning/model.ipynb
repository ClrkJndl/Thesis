{
 "cells": [
  {
   "cell_type": "markdown",
   "metadata": {},
   "source": [
    "# K-Means Clustering\n",
    "\n",
    "## Import all dependencies"
   ]
  },
  {
   "cell_type": "code",
   "execution_count": 1,
   "metadata": {},
   "outputs": [],
   "source": [
    "from sklearn.metrics import silhouette_samples, silhouette_score\n",
    "from sklearn.decomposition import PCA\n",
    "from sklearn.cluster import KMeans\n",
    "import matplotlib.pyplot as plt\n",
    "from matplotlib import cm\n",
    "import pandas as pd\n",
    "import numpy as np\n",
    "import collections\n",
    "import pickle"
   ]
  },
  {
   "cell_type": "markdown",
   "metadata": {},
   "source": [
    "## Fetch datasets"
   ]
  },
  {
   "cell_type": "code",
   "execution_count": 2,
   "metadata": {},
   "outputs": [
    {
     "data": {
      "text/html": [
       "<div>\n",
       "<style scoped>\n",
       "    .dataframe tbody tr th:only-of-type {\n",
       "        vertical-align: middle;\n",
       "    }\n",
       "\n",
       "    .dataframe tbody tr th {\n",
       "        vertical-align: top;\n",
       "    }\n",
       "\n",
       "    .dataframe thead th {\n",
       "        text-align: right;\n",
       "    }\n",
       "</style>\n",
       "<table border=\"1\" class=\"dataframe\">\n",
       "  <thead>\n",
       "    <tr style=\"text-align: right;\">\n",
       "      <th></th>\n",
       "      <th>Program Enrolled</th>\n",
       "      <th>Age</th>\n",
       "      <th>Year level</th>\n",
       "      <th>Gender</th>\n",
       "      <th>Educational Background</th>\n",
       "      <th>Q1</th>\n",
       "      <th>Q2</th>\n",
       "      <th>Q3</th>\n",
       "      <th>Q4</th>\n",
       "      <th>Q5</th>\n",
       "      <th>Q6</th>\n",
       "      <th>Q7</th>\n",
       "      <th>Q8</th>\n",
       "      <th>Q9</th>\n",
       "      <th>Q10</th>\n",
       "      <th>Q11</th>\n",
       "    </tr>\n",
       "  </thead>\n",
       "  <tbody>\n",
       "    <tr>\n",
       "      <th>0</th>\n",
       "      <td>1</td>\n",
       "      <td>21</td>\n",
       "      <td>4</td>\n",
       "      <td>1</td>\n",
       "      <td>1</td>\n",
       "      <td>1</td>\n",
       "      <td>1</td>\n",
       "      <td>1</td>\n",
       "      <td>1</td>\n",
       "      <td>1</td>\n",
       "      <td>1</td>\n",
       "      <td>2</td>\n",
       "      <td>2</td>\n",
       "      <td>2</td>\n",
       "      <td>2</td>\n",
       "      <td>2</td>\n",
       "    </tr>\n",
       "    <tr>\n",
       "      <th>1</th>\n",
       "      <td>2</td>\n",
       "      <td>21</td>\n",
       "      <td>4</td>\n",
       "      <td>1</td>\n",
       "      <td>1</td>\n",
       "      <td>3</td>\n",
       "      <td>4</td>\n",
       "      <td>3</td>\n",
       "      <td>2</td>\n",
       "      <td>2</td>\n",
       "      <td>2</td>\n",
       "      <td>2</td>\n",
       "      <td>2</td>\n",
       "      <td>2</td>\n",
       "      <td>2</td>\n",
       "      <td>2</td>\n",
       "    </tr>\n",
       "    <tr>\n",
       "      <th>2</th>\n",
       "      <td>2</td>\n",
       "      <td>21</td>\n",
       "      <td>4</td>\n",
       "      <td>2</td>\n",
       "      <td>1</td>\n",
       "      <td>2</td>\n",
       "      <td>5</td>\n",
       "      <td>2</td>\n",
       "      <td>3</td>\n",
       "      <td>2</td>\n",
       "      <td>2</td>\n",
       "      <td>2</td>\n",
       "      <td>2</td>\n",
       "      <td>2</td>\n",
       "      <td>2</td>\n",
       "      <td>2</td>\n",
       "    </tr>\n",
       "    <tr>\n",
       "      <th>3</th>\n",
       "      <td>2</td>\n",
       "      <td>21</td>\n",
       "      <td>4</td>\n",
       "      <td>4</td>\n",
       "      <td>1</td>\n",
       "      <td>1</td>\n",
       "      <td>1</td>\n",
       "      <td>4</td>\n",
       "      <td>1</td>\n",
       "      <td>3</td>\n",
       "      <td>2</td>\n",
       "      <td>2</td>\n",
       "      <td>2</td>\n",
       "      <td>2</td>\n",
       "      <td>2</td>\n",
       "      <td>2</td>\n",
       "    </tr>\n",
       "    <tr>\n",
       "      <th>4</th>\n",
       "      <td>1</td>\n",
       "      <td>28</td>\n",
       "      <td>4</td>\n",
       "      <td>1</td>\n",
       "      <td>2</td>\n",
       "      <td>2</td>\n",
       "      <td>1</td>\n",
       "      <td>1</td>\n",
       "      <td>2</td>\n",
       "      <td>3</td>\n",
       "      <td>3</td>\n",
       "      <td>3</td>\n",
       "      <td>3</td>\n",
       "      <td>3</td>\n",
       "      <td>3</td>\n",
       "      <td>3</td>\n",
       "    </tr>\n",
       "  </tbody>\n",
       "</table>\n",
       "</div>"
      ],
      "text/plain": [
       "   Program Enrolled  Age  Year level  Gender  Educational Background  Q1  Q2  \\\n",
       "0                 1   21           4       1                       1   1   1   \n",
       "1                 2   21           4       1                       1   3   4   \n",
       "2                 2   21           4       2                       1   2   5   \n",
       "3                 2   21           4       4                       1   1   1   \n",
       "4                 1   28           4       1                       2   2   1   \n",
       "\n",
       "   Q3  Q4  Q5  Q6  Q7  Q8  Q9  Q10  Q11  \n",
       "0   1   1   1   1   2   2   2    2    2  \n",
       "1   3   2   2   2   2   2   2    2    2  \n",
       "2   2   3   2   2   2   2   2    2    2  \n",
       "3   4   1   3   2   2   2   2    2    2  \n",
       "4   1   2   3   3   3   3   3    3    3  "
      ]
     },
     "execution_count": 2,
     "metadata": {},
     "output_type": "execute_result"
    }
   ],
   "source": [
    "dataset = pd.read_csv(os.path.join(\"datasets.csv\"))\n",
    "dataset.head()"
   ]
  },
  {
   "cell_type": "markdown",
   "metadata": {},
   "source": [
    "#### Get Shape of Dataset"
   ]
  },
  {
   "cell_type": "code",
   "execution_count": 3,
   "metadata": {},
   "outputs": [
    {
     "data": {
      "text/plain": [
       "(306, 16)"
      ]
     },
     "execution_count": 3,
     "metadata": {},
     "output_type": "execute_result"
    }
   ],
   "source": [
    "dataset.shape"
   ]
  },
  {
   "cell_type": "markdown",
   "metadata": {},
   "source": [
    "We have **306** observations (students) with **16** features (11 survey questions and 5 attributes)."
   ]
  },
  {
   "cell_type": "code",
   "execution_count": 4,
   "metadata": {},
   "outputs": [
    {
     "name": "stdout",
     "output_type": "stream",
     "text": [
      "Grand Mean: \t\t 2.2026143790849675\n",
      "Standard Deviation: \t 0.25496479869005917\n"
     ]
    }
   ],
   "source": [
    "X_questions = dataset.iloc[:,5:16]\n",
    "question_means = X_questions.mean(axis = 0)\n",
    "grand_mean = question_means.mean()\n",
    "std_by_questions = question_means.std()\n",
    "print('Grand Mean: \\t\\t', grand_mean)\n",
    "print('Standard Deviation: \\t', std_by_questions)"
   ]
  },
  {
   "cell_type": "markdown",
   "metadata": {},
   "source": [
    "### Data Preparation"
   ]
  },
  {
   "cell_type": "markdown",
   "metadata": {},
   "source": [
    "_People tend to prefer explained variance ≥ 90%_"
   ]
  },
  {
   "cell_type": "code",
   "execution_count": 5,
   "metadata": {},
   "outputs": [
    {
     "data": {
      "text/plain": [
       "0.6815614346350369"
      ]
     },
     "execution_count": 5,
     "metadata": {},
     "output_type": "execute_result"
    }
   ],
   "source": [
    "pca = PCA(n_components = 2, random_state=1)\n",
    "X_pca = pca.fit_transform(dataset)\n",
    "pca.explained_variance_ratio_.cumsum()[1]"
   ]
  },
  {
   "cell_type": "markdown",
   "metadata": {},
   "source": [
    "## Running K-Means with a range of k\n",
    "\n",
    "Our output will be the `yield` property and we will get the 30% of the data to be the test data. "
   ]
  },
  {
   "cell_type": "code",
   "execution_count": 6,
   "metadata": {},
   "outputs": [],
   "source": [
    "distortions = []\n",
    "K = range(1,10)\n",
    "for i in K:\n",
    "    model = KMeans(\n",
    "            n_clusters=i,\n",
    "            random_state=1)\n",
    "    model.fit(X_pca)\n",
    "    distortions.append(model.inertia_)"
   ]
  },
  {
   "cell_type": "markdown",
   "metadata": {},
   "source": [
    "## Plotting the distortions of K-Means"
   ]
  },
  {
   "cell_type": "code",
   "execution_count": 7,
   "metadata": {},
   "outputs": [
    {
     "data": {
      "image/png": "[encoded data removed]",
      "text/plain": [
       "<Figure size 640x480 with 1 Axes>"
      ]
     },
     "metadata": {},
     "output_type": "display_data"
    }
   ],
   "source": [
    "plt.plot(K, distortions, marker='o')\n",
    "plt.xlabel('Number of Clusters (k)')\n",
    "plt.ylabel('Distortion')\n",
    "plt.show()"
   ]
  },
  {
   "cell_type": "markdown",
   "metadata": {},
   "source": [
    "#### We can observe that the “elbow” is the number 4 which is optimal for this case. Now we can run a K-Means using as n_clusters the number 4."
   ]
  },
  {
   "cell_type": "code",
   "execution_count": 8,
   "metadata": {},
   "outputs": [
    {
     "name": "stdout",
     "output_type": "stream",
     "text": [
      "[[-6.92411578e-02 -2.87335776e+00]\n",
      " [ 9.42373669e-02  1.36702247e+00]\n",
      " [ 7.29399863e-02  1.29972985e+00]\n",
      " [ 1.54852459e-01 -1.36523881e+00]\n",
      " [-7.01850571e+00 -1.33948425e+00]\n",
      " [ 7.31786067e-02  1.20893233e+00]\n",
      " [ 1.04903285e+00  2.02973638e-01]\n",
      " [-7.95443687e+00 -1.12884995e-01]\n",
      " [-9.80545603e-01 -2.22958781e+00]\n",
      " [-1.00423418e+00  3.83238959e-01]\n",
      " [-9.58826615e-01 -2.13465669e+00]\n",
      " [ 4.01887252e-02 -2.25409620e+00]\n",
      " [ 2.10748487e+01 -4.65125100e-01]\n",
      " [-3.29569510e-03 -1.43598698e+00]\n",
      " [ 1.03411163e+00 -1.05739381e+00]\n",
      " [ 1.18477274e+00  3.02356734e+00]\n",
      " [ 1.16982010e-01  1.23524277e+00]\n",
      " [-2.04351116e+00 -1.94950069e+00]\n",
      " [-1.95059688e+00  6.56553509e-01]\n",
      " [-1.91446255e+00  1.70575724e+00]\n",
      " [ 9.83349369e-02  3.72668267e-01]\n",
      " [-8.66228109e-01  1.73681175e+00]\n",
      " [ 5.19511616e-02  1.22345192e+00]\n",
      " [ 5.35756833e-02 -5.60032635e-01]\n",
      " [ 8.90135420e-02  3.22325901e+00]\n",
      " [-9.30349999e-01 -1.01366765e+00]\n",
      " [-1.03661982e+00 -2.67169442e+00]\n",
      " [-2.03762979e+00 -7.09588820e-01]\n",
      " [ 6.71437752e-02 -8.50847383e-01]\n",
      " [ 1.17073864e-02 -8.00610473e-01]\n",
      " [-2.01648296e+00 -2.65882877e+00]\n",
      " [-9.02242938e-01  1.90295882e+00]\n",
      " [-8.51230794e-01  2.27036658e+00]\n",
      " [ 8.35676447e-02  2.12695653e+00]\n",
      " [ 8.11224306e-02 -2.17685342e+00]\n",
      " [-9.74893076e-01 -3.82948262e-01]\n",
      " [-1.91773370e+00  2.84420338e+00]\n",
      " [-9.11395577e-01  1.36140111e+00]\n",
      " [ 6.28682481e-02  5.44306641e-01]\n",
      " [ 1.25787857e-01  2.65809415e+00]\n",
      " [-8.66455548e-01  2.36732537e+00]\n",
      " [ 1.68213661e-01  3.08262504e+00]\n",
      " [ 1.00730802e-02 -1.45683627e+00]\n",
      " [ 1.04783919e+00  1.73682906e-01]\n",
      " [-2.94508494e+00  5.06527885e-01]\n",
      " [-9.46774076e-01  6.53884993e-01]\n",
      " [ 5.70535750e-02 -1.57846395e+00]\n",
      " [ 1.03483350e+00 -2.58857371e-02]\n",
      " [ 5.43265476e-02 -3.54154634e-01]\n",
      " [ 4.77667950e-02 -6.90507341e-01]\n",
      " [ 5.09522014e-02  2.73135532e-01]\n",
      " [-2.06328760e+00 -2.44935480e+00]\n",
      " [ 1.03521473e-01  1.18167255e+00]\n",
      " [ 5.51248934e-02 -7.05999784e-01]\n",
      " [ 1.04098116e+00 -7.08157539e-01]\n",
      " [ 1.08560733e-01  1.15844027e+00]\n",
      " [ 1.15326688e+00  2.61395501e+00]\n",
      " [ 1.09641363e+00  1.08124702e+00]\n",
      " [ 9.95676152e-01 -4.72456271e-01]\n",
      " [ 1.17161013e-01  9.28352803e-01]\n",
      " [ 1.03841814e-01 -2.09649226e-01]\n",
      " [-8.93115824e-01  1.30069572e+00]\n",
      " [ 1.09869334e+00  1.36189215e+00]\n",
      " [ 9.78107742e-01 -1.70403731e+00]\n",
      " [-8.40388094e-01  3.64776082e+00]\n",
      " [-8.84424077e-01  2.11974253e+00]\n",
      " [ 7.00754411e-02  1.36696687e-01]\n",
      " [-4.04281875e+00 -2.62038211e+00]\n",
      " [-2.03737180e+00 -2.24615932e+00]\n",
      " [ 1.08940332e+00  1.08698777e+00]\n",
      " [ 8.75585305e-02  2.15751969e+00]\n",
      " [-1.00126265e+00 -6.80350105e-01]\n",
      " [-1.01216777e+00 -1.46349475e+00]\n",
      " [-9.51218384e-01  1.99076797e+00]\n",
      " [-1.88286949e+00  8.25723948e-01]\n",
      " [ 4.44300221e-02 -2.18242700e+00]\n",
      " [-7.96173098e+00  1.03430637e-01]\n",
      " [-8.06316695e-01  2.20356323e+00]\n",
      " [ 9.90605826e-01 -1.05700589e+00]\n",
      " [ 8.40883489e-02  4.29281810e-01]\n",
      " [ 1.02030511e+00 -1.77221326e+00]\n",
      " [ 1.06686571e+00  2.16682294e-01]\n",
      " [-1.98909250e+00 -1.90358479e+00]\n",
      " [-4.22278123e-02 -1.56121119e+00]\n",
      " [ 1.10229218e-01  1.28591439e+00]\n",
      " [ 9.87177858e-01 -1.90026099e+00]\n",
      " [-9.05316744e-01 -3.84590822e-02]\n",
      " [ 9.85234889e-01 -2.09000459e+00]\n",
      " [-9.21338402e-01  1.65628342e+00]\n",
      " [ 1.11958225e-01 -6.69430735e-01]\n",
      " [-1.02708573e+00 -1.28213475e+00]\n",
      " [-8.64550020e-01  2.41743504e+00]\n",
      " [ 1.20047192e-01  7.52537551e-01]\n",
      " [ 1.15382250e+00  2.47066170e+00]\n",
      " [-9.64236179e-01 -2.14440882e+00]\n",
      " [-1.60120088e+01 -3.17067055e-01]\n",
      " [ 1.13024285e+00  1.99088365e+00]\n",
      " [ 1.30549360e-01  9.08348958e-01]\n",
      " [ 1.20224575e-01  1.74173463e+00]\n",
      " [ 3.31106425e-02 -2.68121426e-01]\n",
      " [ 2.10609175e+01  4.49973847e-01]\n",
      " [ 1.01049616e-01  1.12161444e-01]\n",
      " [ 1.01460359e+00 -1.86045942e+00]\n",
      " [-1.86485729e+00  1.04988904e+00]\n",
      " [-3.24175839e-02 -2.65292353e+00]\n",
      " [-3.06233757e-02 -2.55903322e+00]\n",
      " [ 9.21399438e-02  4.43215460e-01]\n",
      " [ 1.28305091e-01  3.02030857e+00]\n",
      " [-9.68283541e-02 -2.42741587e+00]\n",
      " [-5.91896064e+00  1.26976504e+00]\n",
      " [ 2.90487080e-02 -6.60827348e-01]\n",
      " [ 9.34081330e-01 -3.18028889e+00]\n",
      " [ 2.05252283e+00 -6.94325155e-01]\n",
      " [ 1.17958500e+00  2.23451589e+00]\n",
      " [ 1.02243255e+00 -8.46783848e-01]\n",
      " [-3.98460117e+00 -4.81842736e-01]\n",
      " [ 1.15095072e+00  1.84191964e-01]\n",
      " [ 1.10264177e+00  8.74877182e-01]\n",
      " [ 6.25436607e-02 -1.41230225e+00]\n",
      " [ 5.93819519e-02 -1.88321203e+00]\n",
      " [ 1.48704768e-02 -1.54026919e-01]\n",
      " [ 1.14317642e-01 -1.54189876e-01]\n",
      " [-9.56426421e-01 -2.30046321e+00]\n",
      " [ 1.10076862e+00  1.83839120e+00]\n",
      " [ 2.10612640e+01 -1.01910845e+00]\n",
      " [ 1.06685885e+00 -2.16968239e-01]\n",
      " [ 8.17835390e-02 -9.43542583e-01]\n",
      " [ 1.07169219e+00 -2.35138462e+00]\n",
      " [ 3.49080803e-02 -7.22795581e-03]\n",
      " [ 9.31534784e-02  1.00026077e+00]\n",
      " [ 8.98620484e-02  1.37904312e+00]\n",
      " [ 3.85945272e-02 -1.10824503e+00]\n",
      " [-9.75223395e-01 -1.18670933e+00]\n",
      " [-7.98138465e+00  2.41561868e+00]\n",
      " [-1.99623486e-02 -2.72766683e+00]\n",
      " [ 1.09545530e+00  5.17096828e-01]\n",
      " [ 1.05579612e+00 -1.07835427e+00]\n",
      " [ 9.81924053e-02 -2.94856456e-01]\n",
      " [ 2.62861016e-03 -2.05562553e+00]\n",
      " [ 1.15537494e-01 -8.37777393e-01]\n",
      " [-5.02861982e+00 -2.46065520e+00]\n",
      " [ 1.12429894e+00  1.53352278e+00]\n",
      " [-9.42348860e-01 -7.43529662e-01]\n",
      " [ 1.12052097e+00  3.64410858e-01]\n",
      " [ 1.71472838e-01  3.40646884e+00]\n",
      " [-1.00818440e+00 -5.94753362e-01]\n",
      " [-9.94794118e-01 -2.34684874e+00]\n",
      " [ 2.09784062e+01 -1.80358254e+00]\n",
      " [-9.99770880e-01 -6.91649034e-01]\n",
      " [ 8.07113808e-02 -1.36173462e-01]\n",
      " [ 1.06378683e-01  1.58869045e+00]\n",
      " [ 7.33022651e-02 -1.26851508e+00]\n",
      " [ 1.19267618e-01 -4.63784591e-01]\n",
      " [-9.29369843e-01  2.49856257e-01]\n",
      " [-1.91858454e+00  1.17353322e+00]\n",
      " [ 5.09940524e-02 -8.37275091e-01]\n",
      " [ 1.13636124e+00  7.20453003e-01]\n",
      " [ 1.10550132e+00 -6.92596554e-01]\n",
      " [ 1.80281788e-01  3.09613482e+00]\n",
      " [ 1.05975177e+00 -6.21974096e-01]\n",
      " [ 1.03388572e+00 -8.82837508e-01]\n",
      " [ 1.11051229e+00  2.61806851e-01]\n",
      " [ 1.07674776e+00  2.53975241e-01]\n",
      " [ 1.11614345e+00  2.53919805e-01]\n",
      " [ 1.08833662e+00 -3.43399949e-01]\n",
      " [ 1.06431116e+00 -2.81792926e-02]\n",
      " [ 1.18161838e+00  2.14993796e+00]\n",
      " [-1.01434826e+00 -9.87819445e-01]\n",
      " [-8.82836715e-01  2.38111944e+00]\n",
      " [ 5.64938507e-02 -1.13404011e+00]\n",
      " [ 8.73226647e-02  7.82621952e-01]\n",
      " [ 1.08465166e+00  1.53643511e+00]\n",
      " [ 2.80996939e-02 -5.08041178e-01]\n",
      " [ 1.70885900e-01  5.62024806e+00]\n",
      " [-8.14868573e-01  2.14194970e+00]\n",
      " [ 1.16140760e-02 -1.49343992e+00]\n",
      " [-1.95571386e+00 -5.69125993e-01]\n",
      " [-9.94137038e-01 -1.08442243e+00]\n",
      " [ 9.51531435e-03 -2.72996039e+00]\n",
      " [ 1.14484516e+00  2.51703740e+00]\n",
      " [ 1.09354502e+00  7.20726842e-01]\n",
      " [ 1.18379410e+00  1.07644135e+00]\n",
      " [ 1.04199521e+00 -1.85419550e+00]\n",
      " [-1.92660945e+00 -1.94263523e+00]\n",
      " [ 1.13871241e+00  1.62035881e+00]\n",
      " [ 1.12491881e+00  1.84332976e+00]\n",
      " [ 1.02481979e-01  2.03407914e+00]\n",
      " [ 4.11901107e-02  1.68656469e-01]\n",
      " [-1.91366459e+00  1.61085576e+00]\n",
      " [-1.00742652e+00 -1.07341619e+00]\n",
      " [ 7.80615866e-02 -8.96591495e-02]\n",
      " [-3.53200539e-02 -2.62932984e+00]\n",
      " [-9.64901079e-01 -7.02187069e-01]\n",
      " [-9.14280144e-01  5.27875241e-01]\n",
      " [ 1.01928608e+00 -2.11159795e+00]\n",
      " [-1.90648536e+00  2.46270272e+00]\n",
      " [-4.06253296e-02 -1.23293796e+00]\n",
      " [ 1.00529060e-01  8.56609126e-01]\n",
      " [ 1.05247030e+00 -1.30764800e+00]\n",
      " [ 1.02992236e+00 -8.84938382e-01]\n",
      " [-8.64550020e-01  2.41743504e+00]\n",
      " [-9.29966559e-01 -9.82524552e-01]\n",
      " [-7.96171755e+00  2.23315252e+00]\n",
      " [-2.03396872e+00 -8.24096501e-01]\n",
      " [ 6.38123517e-02 -2.83054038e-01]\n",
      " [ 1.12882633e+00  1.17659886e+00]\n",
      " [-8.26929261e-01  2.30502872e+00]\n",
      " [ 3.96726117e-02 -1.29432521e+00]\n",
      " [ 1.11288933e+00  1.01857417e+00]\n",
      " [ 1.09563212e+00  7.64434169e-02]\n",
      " [-9.24290408e-01  1.65100539e+00]\n",
      " [ 5.87717116e-02 -8.71078017e-01]\n",
      " [-9.90255375e-01 -2.12092877e+00]\n",
      " [ 1.00525972e+00 -1.47694777e+00]\n",
      " [ 1.08981491e+00  1.06121769e+00]\n",
      " [ 1.04317153e+00  3.28114892e-01]\n",
      " [ 1.03537794e+00 -1.46190996e+00]\n",
      " [ 1.05489488e+00 -8.31545049e-01]\n",
      " [-9.96215854e-01 -2.59429682e+00]\n",
      " [ 6.46587711e-02 -5.36709386e-02]\n",
      " [ 1.23188574e-01  9.99206386e-01]\n",
      " [ 1.04423998e+00 -1.68317529e-01]\n",
      " [ 1.02820892e+00 -6.32412374e-01]\n",
      " [ 6.67620086e-02  1.20987675e+00]\n",
      " [ 1.03398128e-01  1.47187703e+00]\n",
      " [ 1.15226638e+00  1.37541657e+00]\n",
      " [ 3.45508832e-02 -2.54763922e+00]\n",
      " [-5.07745812e+00 -1.97550244e+00]\n",
      " [ 5.03006305e-02 -1.17416825e+00]\n",
      " [ 1.11206700e+00  7.31252162e-01]\n",
      " [ 1.14740568e+00  2.38304524e+00]\n",
      " [ 1.19698454e+00  1.92250707e+00]\n",
      " [-8.81102156e-01  1.08329339e+00]\n",
      " [ 1.08092340e+00  2.41042675e-01]\n",
      " [-9.74296826e-01 -2.64772118e+00]\n",
      " [ 7.67612069e-02  6.92539323e-01]\n",
      " [-9.50078317e-01 -4.84549510e-01]\n",
      " [-1.91901434e+00 -3.82936923e-01]\n",
      " [ 1.13368259e+00  1.29783150e+00]\n",
      " [-8.45321534e-03 -2.97754323e+00]\n",
      " [-1.93334926e+00  5.93566664e-01]\n",
      " [ 1.18063542e+00  3.20616322e+00]\n",
      " [-1.98476959e+00  2.15573582e-01]\n",
      " [-8.87588834e-01  1.43117500e+00]\n",
      " [-1.00899414e+00 -9.26046289e-01]\n",
      " [-9.35270961e-01 -1.30632757e+00]\n",
      " [ 8.91701087e-02  1.31519373e-01]\n",
      " [ 1.15767911e+00  7.66702699e-02]\n",
      " [ 1.11900246e+00  1.08105026e+00]\n",
      " [ 5.38623605e-02  4.79146951e-01]\n",
      " [ 9.49364893e-02  4.96853581e-02]\n",
      " [ 8.20147359e-02  2.14827790e+00]\n",
      " [ 1.08722590e+00  5.44909563e-01]\n",
      " [ 4.32855236e-03 -1.60671862e+00]\n",
      " [ 1.06961417e+00 -2.19041988e-02]\n",
      " [ 1.50827703e-01  6.36256887e-01]\n",
      " [-9.14556598e-01  1.49446538e+00]\n",
      " [-9.49032271e-01  7.32209510e-01]\n",
      " [ 9.26933227e-02  1.01684984e+00]\n",
      " [ 1.09745377e+00 -9.55742002e-01]\n",
      " [ 1.24706105e-01  2.96357052e+00]\n",
      " [ 1.04464005e-01  8.76108845e-01]\n",
      " [-9.07439874e-01  2.88952668e-01]\n",
      " [ 6.55262021e-02  1.06244131e+00]\n",
      " [ 1.13334993e+00  8.65460560e-01]\n",
      " [ 2.07224276e+00  1.41188892e-01]\n",
      " [ 1.10520886e+00  1.30402120e+00]\n",
      " [ 1.15767911e+00  7.66702699e-02]\n",
      " [-1.92168542e+00  1.17686102e+00]\n",
      " [ 1.08010801e+00  9.96085035e-01]\n",
      " [-1.26286142e-02 -2.67058509e+00]\n",
      " [-9.59242282e-01 -1.28790038e+00]\n",
      " [ 2.32946487e-02 -1.04497838e+00]\n",
      " [ 8.25186830e-02  8.09759667e-01]\n",
      " [-6.90382419e-03 -1.51011798e+00]\n",
      " [-2.98891397e+00 -5.41331735e-01]\n",
      " [-9.76093522e-01 -2.11799705e+00]\n",
      " [ 1.75192344e-01  1.64157712e+00]\n",
      " [-7.32616734e-02 -2.31753323e+00]\n",
      " [ 1.03145072e+00 -9.31081689e-01]\n",
      " [-8.28193461e-01  1.60777002e+00]\n",
      " [ 1.09205836e+00  9.40427365e-01]\n",
      " [-1.07212170e+00 -1.38013601e+00]\n",
      " [-1.01911930e+00 -1.05933383e+00]\n",
      " [ 1.11883618e+00  1.22890209e+00]\n",
      " [ 4.97841952e-02  1.21454256e-02]\n",
      " [ 9.98577572e-01  1.73702179e-01]\n",
      " [-5.06281637e+00 -8.15584881e-01]\n",
      " [-9.57424876e-01 -1.54315776e+00]\n",
      " [ 6.61044768e-02  1.28491274e+00]\n",
      " [ 9.00781496e-02 -2.02693952e-01]\n",
      " [-2.96984749e+00 -2.71869674e+00]\n",
      " [ 1.03094992e+00 -1.52830359e+00]\n",
      " [ 1.10398013e+00  7.26649535e-01]\n",
      " [-9.31858570e-01 -1.57109116e-01]\n",
      " [ 9.00314029e-02  4.73172591e-02]\n",
      " [-9.56426421e-01 -2.30046321e+00]\n",
      " [ 1.19534019e+00  1.80256901e+00]\n",
      " [-8.77615856e-01  2.01074005e-01]\n",
      " [ 1.98836420e-02 -1.27666366e+00]\n",
      " [ 9.89516289e-01 -1.87737096e+00]\n",
      " [-8.90040889e-01  2.01691899e-01]\n",
      " [ 2.04076725e+00 -4.89770819e-02]\n",
      " [ 4.61753244e-02 -8.52603185e-01]\n",
      " [ 1.11706550e+00  6.59431457e-01]\n",
      " [ 1.00983491e+00 -2.79238486e+00]]\n",
      "[3 2 2 3 0 2 2 0 3 2 3 3 1 3 3 2 2 3 2 2 2 2 2 3 2 3 3 3 3 3 3 2 2 2 3 3 2\n",
      " 2 2 2 2 2 3 2 2 2 3 2 3 3 2 3 2 3 3 2 2 2 3 2 3 2 2 3 2 2 2 0 3 2 2 3 3 2\n",
      " 2 3 0 2 3 2 3 2 3 3 2 3 3 3 2 3 3 2 2 2 3 0 2 2 2 3 1 2 3 2 3 3 2 2 3 0 3\n",
      " 3 3 2 3 0 2 2 3 3 3 3 3 2 1 3 3 3 2 2 2 3 3 0 3 2 3 3 3 3 0 2 3 2 2 3 3 1\n",
      " 3 3 2 3 3 2 2 3 2 3 2 3 3 2 2 2 3 2 2 3 2 3 2 2 3 2 2 3 3 3 3 2 2 2 3 3 2\n",
      " 2 2 2 2 3 3 3 3 2 3 2 3 2 3 3 2 3 0 3 3 2 2 3 2 2 2 3 3 3 2 2 3 3 3 2 2 2\n",
      " 3 2 2 2 3 0 3 2 2 2 2 2 3 2 3 3 2 3 2 2 2 2 3 3 2 2 2 2 2 2 2 3 2 2 2 2 2\n",
      " 3 2 2 2 2 2 2 2 2 2 2 3 3 3 2 3 3 3 2 3 3 2 2 3 3 2 2 2 0 3 2 3 3 3 2 3 2\n",
      " 3 2 2 3 3 2 2 3 2 3]\n"
     ]
    }
   ],
   "source": [
    "model = KMeans(n_clusters=4, random_state=1)\n",
    "model = model.fit(X_pca)\n",
    "y = model.predict(X_pca)\n",
    "print(X_pca)\n",
    "print(y)"
   ]
  },
  {
   "cell_type": "markdown",
   "metadata": {},
   "source": [
    "## K-Means vs Actual for n_clusters=4"
   ]
  },
  {
   "cell_type": "code",
   "execution_count": 9,
   "metadata": {},
   "outputs": [
    {
     "data": {
      "image/png": "[encoded data removed]",
      "text/plain": [
       "<Figure size 640x480 with 1 Axes>"
      ]
     },
     "metadata": {},
     "output_type": "display_data"
    }
   ],
   "source": [
    "plt.scatter(X_pca[y == 0, 0], X_pca[y == 0, 1], s = 50, c = 'yellow', label = 'Cluster 1')\n",
    "plt.scatter(X_pca[y == 1, 0], X_pca[y == 1, 1], s = 50, c = 'green', label = 'Cluster 2')\n",
    "plt.scatter(X_pca[y == 2, 0], X_pca[y == 2, 1], s = 50, c = 'red', label = 'Cluster 3')\n",
    "plt.scatter(X_pca[y == 3, 0], X_pca[y == 3, 1], s = 50, c = 'orange', label = 'Cluster 4')\n",
    "plt.scatter(model.cluster_centers_[:, 0], model.cluster_centers_[:, 1], s = 100, c = 'blue', label = 'Centroids')\n",
    "plt.title('Clusters of Students')\n",
    "plt.xlabel('Principle Component 1')\n",
    "plt.ylabel('Principle Component 2')\n",
    "plt.legend()\n",
    "plt.grid()\n",
    "plt.show()\n"
   ]
  },
  {
   "cell_type": "markdown",
   "metadata": {},
   "source": [
    "### Result"
   ]
  },
  {
   "cell_type": "code",
   "execution_count": 10,
   "metadata": {},
   "outputs": [
    {
     "name": "stdout",
     "output_type": "stream",
     "text": [
      "K Means Result : \n",
      "Counter({2: 155, 3: 135, 0: 12, 1: 4})\n"
     ]
    }
   ],
   "source": [
    "print('K Means Result : ')\n",
    "print(collections.Counter(y))"
   ]
  },
  {
   "cell_type": "code",
   "execution_count": 11,
   "metadata": {},
   "outputs": [
    {
     "name": "stdout",
     "output_type": "stream",
     "text": [
      "Silhouette Average:  0.4253850812314909\n"
     ]
    },
    {
     "data": {
      "image/png": "[encoded data removed]",
      "text/plain": [
       "<Figure size 640x480 with 1 Axes>"
      ]
     },
     "metadata": {},
     "output_type": "display_data"
    }
   ],
   "source": [
    "cluster_labels = np.unique(y)\n",
    "n_clusters = cluster_labels.shape[0]\n",
    "silhouette_vals = silhouette_samples(X_pca, y, metric='euclidean')\n",
    "\n",
    "y_ax_lower, y_ax_upper = 0, 0\n",
    "yticks = []\n",
    "for i, c in enumerate(cluster_labels):\n",
    "    c_silhouette_vals = silhouette_vals[y == c]\n",
    "    c_silhouette_vals.sort()\n",
    "    y_ax_upper += len(c_silhouette_vals)\n",
    "    color = cm.jet(float(i) / n_clusters)\n",
    "    plt.barh(range(y_ax_lower, y_ax_upper),\n",
    "            c_silhouette_vals,\n",
    "            height=1.0,\n",
    "            edgecolor='none',\n",
    "            color=color)\n",
    "    yticks.append((y_ax_lower + y_ax_upper) / 2.)\n",
    "    y_ax_lower += len(c_silhouette_vals)\n",
    "silhouette_avg = np.mean(silhouette_vals)\n",
    "print('Silhouette Average: ', silhouette_avg)\n",
    "\n",
    "plt.axvline(silhouette_avg, color=\"red\", linestyle=\"--\")\n",
    "plt.yticks(yticks, cluster_labels + 1)\n",
    "plt.ylabel('Cluster')\n",
    "plt.xlabel('Silhouette coefficient')\n",
    "plt.show()"
   ]
  },
  {
   "cell_type": "code",
   "execution_count": 12,
   "metadata": {},
   "outputs": [
    {
     "data": {
      "image/png": "[encoded data removed]",
      "text/plain": [
       "<Figure size 640x480 with 1 Axes>"
      ]
     },
     "metadata": {},
     "output_type": "display_data"
    }
   ],
   "source": [
    "range_n_clusters = [2, 3, 4, 5, 6, 7, 8]\n",
    "silhouette_avg = []\n",
    "for num_clusters in range_n_clusters:\n",
    "    # initialise kmeans\n",
    "    kmeans = KMeans(n_clusters=num_clusters)\n",
    "    kmeans.fit(X_pca)\n",
    "    cluster_labels = kmeans.labels_\n",
    "\n",
    "    # silhouette score\n",
    "    silhouette_avg.append(silhouette_score(X_pca, cluster_labels))\n",
    "plt.plot(range_n_clusters,silhouette_avg,'bx-')\n",
    "plt.xlabel('Values of K') \n",
    "plt.ylabel('Silhouette score') \n",
    "plt.title('Silhouette analysis For Optimal k')\n",
    "plt.show()"
   ]
  },
  {
   "cell_type": "markdown",
   "metadata": {},
   "source": [
    "## Export Model"
   ]
  },
  {
   "cell_type": "code",
   "execution_count": 13,
   "metadata": {},
   "outputs": [],
   "source": [
    "pickle.dump(model, open('model.pkl', 'wb'))"
   ]
  }
 ],
 "metadata": {
  "kernelspec": {
   "display_name": "Python 3.10.6 64-bit",
   "language": "python",
   "name": "python3"
  },
  "language_info": {
   "codemirror_mode": {
    "name": "ipython",
    "version": 3
   },
   "file_extension": ".py",
   "mimetype": "text/x-python",
   "name": "python",
   "nbconvert_exporter": "python",
   "pygments_lexer": "ipython3",
   "version": "3.10.6"
  },
  "orig_nbformat": 4,
  "vscode": {
   "interpreter": {
    "hash": "949777d72b0d2535278d3dc13498b2535136f6dfe0678499012e853ee9abcab1"
   }
  }
 },
 "nbformat": 4,
 "nbformat_minor": 2
}
